{
  "nbformat": 4,
  "nbformat_minor": 0,
  "metadata": {
    "colab": {
      "name": "Schinler_data_science.ipynb",
      "provenance": [],
      "collapsed_sections": []
    },
    "kernelspec": {
      "name": "python3",
      "display_name": "Python 3"
    },
    "language_info": {
      "name": "python"
    },
    "accelerator": "GPU"
  },
  "cells": [
    {
      "cell_type": "code",
      "execution_count": 109,
      "metadata": {
        "id": "sYjxbHQtjGzj"
      },
      "outputs": [],
      "source": [
        "from os import path\n",
        "import urllib.request\n",
        "import json\n",
        "\n",
        "import pandas as pd\n",
        "import numpy as np\n",
        "from sklearn.decomposition import PCA\n",
        "from sklearn.decomposition import KernelPCA\n",
        "from sklearn.preprocessing import OneHotEncoder\n",
        "from sklearn.model_selection import train_test_split\n",
        "from sklearn.compose import make_column_transformer\n",
        "from sklearn.metrics import classification_report\n"
      ]
    },
    {
      "cell_type": "code",
      "source": [
        "#create empty list to load dataframes\n",
        "training_dataframes = []"
      ],
      "metadata": {
        "id": "FTJOUcCfx-Qv"
      },
      "execution_count": 110,
      "outputs": []
    },
    {
      "cell_type": "code",
      "source": [
        "#Load csv files\n",
        "\n",
        "training_dataframes.append(pd.read_csv('raw_train/csv/train1.csv'))\n",
        "training_dataframes.append(pd.read_csv('raw_train/csv/train2.csv', sep= ';'))"
      ],
      "metadata": {
        "id": "Wbu3_eOGqzxN"
      },
      "execution_count": 111,
      "outputs": []
    },
    {
      "cell_type": "code",
      "source": [
        "# Load Json data\n",
        "\n",
        "root_url = \"http://schneiderapihack-env.eba-3ais9akk.us-east-2.elasticbeanstalk.com\"\n",
        "json_files = [\"first\", \"second\", \"third\"]\n",
        "\n",
        "for j_file in json_files:\n",
        "  with urllib.request.urlopen(path.join(root_url,j_file)) as url:\n",
        "      data = json.loads(url.read().decode())\n",
        "      training_dataframes.append(pd.DataFrame(data))"
      ],
      "metadata": {
        "id": "WfPMKgvjxoPr"
      },
      "execution_count": 112,
      "outputs": []
    },
    {
      "cell_type": "code",
      "source": [
        "df_training = pd.concat(training_dataframes, axis=0, ignore_index=True)"
      ],
      "metadata": {
        "id": "0FGW4Jut3Au7"
      },
      "execution_count": 113,
      "outputs": []
    },
    {
      "cell_type": "code",
      "source": [
        "df_training.columns"
      ],
      "metadata": {
        "colab": {
          "base_uri": "https://localhost:8080/"
        },
        "id": "4zjb7Hzd6WlZ",
        "outputId": "53dbf254-5b68-4e5e-db40-54cd787c51c1"
      },
      "execution_count": 114,
      "outputs": [
        {
          "output_type": "execute_result",
          "data": {
            "text/plain": [
              "Index(['countryName', 'eprtrSectorName', 'EPRTRAnnexIMainActivityLabel',\n",
              "       'FacilityInspireID', 'facilityName', 'City', 'targetRelease',\n",
              "       'pollutant', 'reportingYear', 'MONTH', 'DAY', 'CONTINENT',\n",
              "       'max_wind_speed', 'avg_wind_speed', 'min_wind_speed', 'max_temp',\n",
              "       'avg_temp', 'min_temp', 'DAY WITH FOGS', 'REPORTER NAME', 'CITY ID', '',\n",
              "       'EPRTRAnnexIMainActivityCode', 'EPRTRSectorCode'],\n",
              "      dtype='object')"
            ]
          },
          "metadata": {},
          "execution_count": 114
        }
      ]
    },
    {
      "cell_type": "code",
      "source": [
        "print(len(df_training.columns))\n",
        "for col in df_training:\n",
        "  print(col, len(df_training[col].unique()))\n",
        "  print(df_training[col].unique())"
      ],
      "metadata": {
        "id": "U3Y3Ea956Yvb"
      },
      "execution_count": null,
      "outputs": []
    },
    {
      "cell_type": "markdown",
      "source": [
        "Le hecho un ojo a los datos. a ver que columnas puedo eliminar de primeras:\n",
        "\n",
        "1.   targetRelease. Solo tiene 1 valor\n",
        "2.   continent. Lo mismo\n",
        "3.   REPORTER NAME. No me interesa\n",
        "4.   El que no tiene nombre. No me interesa\n",
        "5.   DAY. El dia particular no creo que sea relevante\n",
        "6. CITY ID. Es lo mismo que city\n",
        "7. FacilityInspireID . Hay demasiados\n",
        "8. facilityName . Lo mismo\n",
        "9. EPRTRAnnexIMainActivityCode . Es repetido\n",
        "10. EPRTRSectorCode . Al final eso viene de lo anterior\n",
        "11. City. 5000 ciudades, demasiada liada tb para hacer ahora\n",
        "\n"
      ],
      "metadata": {
        "id": "WPVUF18h8M_7"
      }
    },
    {
      "cell_type": "code",
      "source": [
        "def curate_dataframe(df):\n",
        "  '''Function to prepare dataset'''\n",
        "\n",
        "\n",
        "  # Delete the columns I dont want\n",
        "  rem_att = ['targetRelease', 'CONTINENT', 'REPORTER NAME', '', 'DAY', 'FacilityInspireID', 'facilityName', 'EPRTRAnnexIMainActivityCode', 'EPRTRSectorCode', 'City']\n",
        "  for att in rem_att:\n",
        "    try:\n",
        "      df.pop(att)\n",
        "    except:\n",
        "      print('Atrribute not present')\n",
        "\n",
        "  df= df.rename(columns = {'CITY ID':'CITY_ID'})\n",
        "\n",
        "  # Format several fields\n",
        "  df['reportingYear'] = df['reportingYear'].astype(int).astype(\"category\")\n",
        "  df['MONTH'] = df['MONTH'].astype(int).astype(\"category\")\n",
        "  df['DAY WITH FOGS'] = df['DAY WITH FOGS'].astype(str).astype(int)\n",
        "\n",
        "  df['max_wind_speed'] = df['max_wind_speed'].astype(float)\n",
        "  df['avg_wind_speed'] = df['avg_wind_speed'].astype(float)\n",
        "  df['min_wind_speed'] = df['min_wind_speed'].astype(float)\n",
        "\n",
        "  df['max_temp'] = df['max_temp'].astype(float)\n",
        "  df['avg_temp'] = df['avg_temp'].astype(float)\n",
        "  df['min_temp'] = df['min_temp'].astype(float)\n",
        "\n",
        "\n",
        "  # Encode pollutant to int\n",
        "  try:\n",
        "    pollutant_dict={\n",
        "    \"Nitrogen oxides (NOX)\":0,\n",
        "    \"Carbon dioxide (CO2)\":1,\n",
        "    \"Methane (CH4)\":2}\n",
        "    df = df.replace({\"pollutant\": pollutant_dict})\n",
        "  except:\n",
        "    print('Pollutant not present in the dataframe')\n",
        "\n",
        "  df= df.rename(columns = {'DAY WITH FOGS':'DAY_WITH_FOGS'})\n",
        "\n",
        "  return df"
      ],
      "metadata": {
        "id": "FCepMy_HLrkt"
      },
      "execution_count": 163,
      "outputs": []
    },
    {
      "cell_type": "code",
      "source": [
        "# Delete the columns I dont want\n",
        "df_training.pop('targetRelease')\n",
        "df_training.pop('CONTINENT')\n",
        "df_training.pop('REPORTER NAME')\n",
        "df_training.pop('')\n",
        "df_training.pop('DAY')\n",
        "df_training= df_training.rename(columns = {'CITY ID':'CITY_ID'})\n",
        "# df_training.pop('CITY_ID')\n",
        "df_training.pop('FacilityInspireID')\n",
        "df_training.pop('facilityName')\n",
        "df_training.pop('EPRTRAnnexIMainActivityCode')\n",
        "df_training.pop('EPRTRSectorCode')\n",
        "df_training.pop('City')"
      ],
      "metadata": {
        "colab": {
          "base_uri": "https://localhost:8080/"
        },
        "id": "S5i20QSp7zZY",
        "outputId": "e337aa08-b382-4c14-af34-da3199a1cf9c"
      },
      "execution_count": 116,
      "outputs": [
        {
          "output_type": "execute_result",
          "data": {
            "text/plain": [
              "0                      Sehnde\n",
              "1        TAVERNOLA BERGAMASCA\n",
              "2          PUERTO DEL ROSARIO\n",
              "3                       Kadaň\n",
              "4                     Tampere\n",
              "                 ...         \n",
              "65623                 LARNAKA\n",
              "65624                Naantali\n",
              "65625                    Ptuj\n",
              "65626                VIGGIANO\n",
              "65627                 Runcorn\n",
              "Name: City, Length: 65628, dtype: object"
            ]
          },
          "metadata": {},
          "execution_count": 116
        }
      ]
    },
    {
      "cell_type": "code",
      "source": [
        "# make all the numeric number strings to numbers\n",
        "# Use to string before just in case there are both types\n",
        "df_training['reportingYear'] = df_training['reportingYear'].astype(int).astype(\"category\")\n",
        "df_training['MONTH'] = df_training['MONTH'].astype(int).astype(\"category\")\n",
        "df_training['DAY WITH FOGS'] = df_training['DAY WITH FOGS'].astype(str).astype(int)\n",
        "\n",
        "df_training['max_wind_speed'] = df_training['max_wind_speed'].astype(float)\n",
        "df_training['avg_wind_speed'] = df_training['avg_wind_speed'].astype(float)\n",
        "df_training['min_wind_speed'] = df_training['min_wind_speed'].astype(float)\n",
        "\n",
        "df_training['max_temp'] = df_training['max_temp'].astype(float)\n",
        "df_training['avg_temp'] = df_training['avg_temp'].astype(float)\n",
        "df_training['min_temp'] = df_training['min_temp'].astype(float)"
      ],
      "metadata": {
        "id": "AVRGHBMw9aqr"
      },
      "execution_count": 117,
      "outputs": []
    },
    {
      "cell_type": "code",
      "source": [
        "# Encode pollutant to int\n",
        "pollutant_dict={\n",
        "\"Nitrogen oxides (NOX)\":0,\n",
        "\"Carbon dioxide (CO2)\":1,\n",
        "\"Methane (CH4)\":2}\n",
        "\n",
        "df_training = df_training.replace({\"pollutant\": pollutant_dict})"
      ],
      "metadata": {
        "id": "xEwTK5hgNpS5"
      },
      "execution_count": 118,
      "outputs": []
    },
    {
      "cell_type": "code",
      "source": [
        "df_training= df_training.rename(columns = {'DAY WITH FOGS':'DAY_WITH_FOGS'})"
      ],
      "metadata": {
        "id": "kr8Cm4hF9Zys"
      },
      "execution_count": 119,
      "outputs": []
    },
    {
      "cell_type": "code",
      "source": [
        "df_training.describe()"
      ],
      "metadata": {
        "colab": {
          "base_uri": "https://localhost:8080/",
          "height": 300
        },
        "id": "W1_2fN7m9eOv",
        "outputId": "0571be07-f0c3-4af7-fd83-49fd0d740d93"
      },
      "execution_count": 120,
      "outputs": [
        {
          "output_type": "execute_result",
          "data": {
            "text/plain": [
              "          pollutant  max_wind_speed  avg_wind_speed  min_wind_speed  \\\n",
              "count  65628.000000    65628.000000    65628.000000    65628.000000   \n",
              "mean       0.858292       15.515958       18.015285       22.521038   \n",
              "std        0.793736        3.067272        2.310739        3.059973   \n",
              "min        0.000000        8.011958       14.000100       15.032589   \n",
              "25%        0.000000       13.324166       16.012197       20.346158   \n",
              "50%        1.000000       15.506820       18.020789       22.540387   \n",
              "75%        2.000000       17.718201       20.011702       24.715251   \n",
              "max        2.000000       22.991382       21.999973       29.933603   \n",
              "\n",
              "           max_temp      avg_temp      min_temp  DAY_WITH_FOGS  \n",
              "count  65628.000000  65628.000000  65628.000000   65628.000000  \n",
              "mean       9.455406     10.448142     13.442827       2.232568  \n",
              "std        5.216525      5.084529      5.216068       3.778429  \n",
              "min       -3.141464     -0.199176      0.894827       0.000000  \n",
              "25%        5.879821      7.186013      9.894281       0.000000  \n",
              "50%        9.698967     10.701504     13.692473       1.000000  \n",
              "75%       13.282417     14.193578     17.268000       2.000000  \n",
              "max       20.938266     19.999403     24.902108      19.000000  "
            ],
            "text/html": [
              "\n",
              "  <div id=\"df-0db54555-aac5-4d88-a732-80a3e86f94e9\">\n",
              "    <div class=\"colab-df-container\">\n",
              "      <div>\n",
              "<style scoped>\n",
              "    .dataframe tbody tr th:only-of-type {\n",
              "        vertical-align: middle;\n",
              "    }\n",
              "\n",
              "    .dataframe tbody tr th {\n",
              "        vertical-align: top;\n",
              "    }\n",
              "\n",
              "    .dataframe thead th {\n",
              "        text-align: right;\n",
              "    }\n",
              "</style>\n",
              "<table border=\"1\" class=\"dataframe\">\n",
              "  <thead>\n",
              "    <tr style=\"text-align: right;\">\n",
              "      <th></th>\n",
              "      <th>pollutant</th>\n",
              "      <th>max_wind_speed</th>\n",
              "      <th>avg_wind_speed</th>\n",
              "      <th>min_wind_speed</th>\n",
              "      <th>max_temp</th>\n",
              "      <th>avg_temp</th>\n",
              "      <th>min_temp</th>\n",
              "      <th>DAY_WITH_FOGS</th>\n",
              "    </tr>\n",
              "  </thead>\n",
              "  <tbody>\n",
              "    <tr>\n",
              "      <th>count</th>\n",
              "      <td>65628.000000</td>\n",
              "      <td>65628.000000</td>\n",
              "      <td>65628.000000</td>\n",
              "      <td>65628.000000</td>\n",
              "      <td>65628.000000</td>\n",
              "      <td>65628.000000</td>\n",
              "      <td>65628.000000</td>\n",
              "      <td>65628.000000</td>\n",
              "    </tr>\n",
              "    <tr>\n",
              "      <th>mean</th>\n",
              "      <td>0.858292</td>\n",
              "      <td>15.515958</td>\n",
              "      <td>18.015285</td>\n",
              "      <td>22.521038</td>\n",
              "      <td>9.455406</td>\n",
              "      <td>10.448142</td>\n",
              "      <td>13.442827</td>\n",
              "      <td>2.232568</td>\n",
              "    </tr>\n",
              "    <tr>\n",
              "      <th>std</th>\n",
              "      <td>0.793736</td>\n",
              "      <td>3.067272</td>\n",
              "      <td>2.310739</td>\n",
              "      <td>3.059973</td>\n",
              "      <td>5.216525</td>\n",
              "      <td>5.084529</td>\n",
              "      <td>5.216068</td>\n",
              "      <td>3.778429</td>\n",
              "    </tr>\n",
              "    <tr>\n",
              "      <th>min</th>\n",
              "      <td>0.000000</td>\n",
              "      <td>8.011958</td>\n",
              "      <td>14.000100</td>\n",
              "      <td>15.032589</td>\n",
              "      <td>-3.141464</td>\n",
              "      <td>-0.199176</td>\n",
              "      <td>0.894827</td>\n",
              "      <td>0.000000</td>\n",
              "    </tr>\n",
              "    <tr>\n",
              "      <th>25%</th>\n",
              "      <td>0.000000</td>\n",
              "      <td>13.324166</td>\n",
              "      <td>16.012197</td>\n",
              "      <td>20.346158</td>\n",
              "      <td>5.879821</td>\n",
              "      <td>7.186013</td>\n",
              "      <td>9.894281</td>\n",
              "      <td>0.000000</td>\n",
              "    </tr>\n",
              "    <tr>\n",
              "      <th>50%</th>\n",
              "      <td>1.000000</td>\n",
              "      <td>15.506820</td>\n",
              "      <td>18.020789</td>\n",
              "      <td>22.540387</td>\n",
              "      <td>9.698967</td>\n",
              "      <td>10.701504</td>\n",
              "      <td>13.692473</td>\n",
              "      <td>1.000000</td>\n",
              "    </tr>\n",
              "    <tr>\n",
              "      <th>75%</th>\n",
              "      <td>2.000000</td>\n",
              "      <td>17.718201</td>\n",
              "      <td>20.011702</td>\n",
              "      <td>24.715251</td>\n",
              "      <td>13.282417</td>\n",
              "      <td>14.193578</td>\n",
              "      <td>17.268000</td>\n",
              "      <td>2.000000</td>\n",
              "    </tr>\n",
              "    <tr>\n",
              "      <th>max</th>\n",
              "      <td>2.000000</td>\n",
              "      <td>22.991382</td>\n",
              "      <td>21.999973</td>\n",
              "      <td>29.933603</td>\n",
              "      <td>20.938266</td>\n",
              "      <td>19.999403</td>\n",
              "      <td>24.902108</td>\n",
              "      <td>19.000000</td>\n",
              "    </tr>\n",
              "  </tbody>\n",
              "</table>\n",
              "</div>\n",
              "      <button class=\"colab-df-convert\" onclick=\"convertToInteractive('df-0db54555-aac5-4d88-a732-80a3e86f94e9')\"\n",
              "              title=\"Convert this dataframe to an interactive table.\"\n",
              "              style=\"display:none;\">\n",
              "        \n",
              "  <svg xmlns=\"http://www.w3.org/2000/svg\" height=\"24px\"viewBox=\"0 0 24 24\"\n",
              "       width=\"24px\">\n",
              "    <path d=\"M0 0h24v24H0V0z\" fill=\"none\"/>\n",
              "    <path d=\"M18.56 5.44l.94 2.06.94-2.06 2.06-.94-2.06-.94-.94-2.06-.94 2.06-2.06.94zm-11 1L8.5 8.5l.94-2.06 2.06-.94-2.06-.94L8.5 2.5l-.94 2.06-2.06.94zm10 10l.94 2.06.94-2.06 2.06-.94-2.06-.94-.94-2.06-.94 2.06-2.06.94z\"/><path d=\"M17.41 7.96l-1.37-1.37c-.4-.4-.92-.59-1.43-.59-.52 0-1.04.2-1.43.59L10.3 9.45l-7.72 7.72c-.78.78-.78 2.05 0 2.83L4 21.41c.39.39.9.59 1.41.59.51 0 1.02-.2 1.41-.59l7.78-7.78 2.81-2.81c.8-.78.8-2.07 0-2.86zM5.41 20L4 18.59l7.72-7.72 1.47 1.35L5.41 20z\"/>\n",
              "  </svg>\n",
              "      </button>\n",
              "      \n",
              "  <style>\n",
              "    .colab-df-container {\n",
              "      display:flex;\n",
              "      flex-wrap:wrap;\n",
              "      gap: 12px;\n",
              "    }\n",
              "\n",
              "    .colab-df-convert {\n",
              "      background-color: #E8F0FE;\n",
              "      border: none;\n",
              "      border-radius: 50%;\n",
              "      cursor: pointer;\n",
              "      display: none;\n",
              "      fill: #1967D2;\n",
              "      height: 32px;\n",
              "      padding: 0 0 0 0;\n",
              "      width: 32px;\n",
              "    }\n",
              "\n",
              "    .colab-df-convert:hover {\n",
              "      background-color: #E2EBFA;\n",
              "      box-shadow: 0px 1px 2px rgba(60, 64, 67, 0.3), 0px 1px 3px 1px rgba(60, 64, 67, 0.15);\n",
              "      fill: #174EA6;\n",
              "    }\n",
              "\n",
              "    [theme=dark] .colab-df-convert {\n",
              "      background-color: #3B4455;\n",
              "      fill: #D2E3FC;\n",
              "    }\n",
              "\n",
              "    [theme=dark] .colab-df-convert:hover {\n",
              "      background-color: #434B5C;\n",
              "      box-shadow: 0px 1px 3px 1px rgba(0, 0, 0, 0.15);\n",
              "      filter: drop-shadow(0px 1px 2px rgba(0, 0, 0, 0.3));\n",
              "      fill: #FFFFFF;\n",
              "    }\n",
              "  </style>\n",
              "\n",
              "      <script>\n",
              "        const buttonEl =\n",
              "          document.querySelector('#df-0db54555-aac5-4d88-a732-80a3e86f94e9 button.colab-df-convert');\n",
              "        buttonEl.style.display =\n",
              "          google.colab.kernel.accessAllowed ? 'block' : 'none';\n",
              "\n",
              "        async function convertToInteractive(key) {\n",
              "          const element = document.querySelector('#df-0db54555-aac5-4d88-a732-80a3e86f94e9');\n",
              "          const dataTable =\n",
              "            await google.colab.kernel.invokeFunction('convertToInteractive',\n",
              "                                                     [key], {});\n",
              "          if (!dataTable) return;\n",
              "\n",
              "          const docLinkHtml = 'Like what you see? Visit the ' +\n",
              "            '<a target=\"_blank\" href=https://colab.research.google.com/notebooks/data_table.ipynb>data table notebook</a>'\n",
              "            + ' to learn more about interactive tables.';\n",
              "          element.innerHTML = '';\n",
              "          dataTable['output_type'] = 'display_data';\n",
              "          await google.colab.output.renderOutput(dataTable, element);\n",
              "          const docLink = document.createElement('div');\n",
              "          docLink.innerHTML = docLinkHtml;\n",
              "          element.appendChild(docLink);\n",
              "        }\n",
              "      </script>\n",
              "    </div>\n",
              "  </div>\n",
              "  "
            ]
          },
          "metadata": {},
          "execution_count": 120
        }
      ]
    },
    {
      "cell_type": "code",
      "source": [
        "df_training.corr()"
      ],
      "metadata": {
        "colab": {
          "base_uri": "https://localhost:8080/",
          "height": 300
        },
        "id": "UZMYBoHe9rN7",
        "outputId": "e947c0f9-235c-42a9-cb62-658f266b7162"
      },
      "execution_count": 121,
      "outputs": [
        {
          "output_type": "execute_result",
          "data": {
            "text/plain": [
              "                pollutant  max_wind_speed  avg_wind_speed  min_wind_speed  \\\n",
              "pollutant        1.000000        0.005049        0.001564        0.000270   \n",
              "max_wind_speed   0.005049        1.000000        0.752854        0.565108   \n",
              "avg_wind_speed   0.001564        0.752854        1.000000        0.750644   \n",
              "min_wind_speed   0.000270        0.565108        0.750644        1.000000   \n",
              "max_temp         0.002914       -0.005401       -0.006726       -0.001764   \n",
              "avg_temp         0.003375       -0.004884       -0.006853       -0.002531   \n",
              "min_temp         0.002614       -0.004942       -0.007950       -0.003061   \n",
              "DAY_WITH_FOGS    0.090077       -0.006641       -0.006585       -0.006167   \n",
              "\n",
              "                max_temp  avg_temp  min_temp  DAY_WITH_FOGS  \n",
              "pollutant       0.002914  0.003375  0.002614       0.090077  \n",
              "max_wind_speed -0.005401 -0.004884 -0.004942      -0.006641  \n",
              "avg_wind_speed -0.006726 -0.006853 -0.007950      -0.006585  \n",
              "min_wind_speed -0.001764 -0.002531 -0.003061      -0.006167  \n",
              "max_temp        1.000000  0.975139  0.950746       0.003192  \n",
              "avg_temp        0.975139  1.000000  0.975169       0.003429  \n",
              "min_temp        0.950746  0.975169  1.000000       0.002612  \n",
              "DAY_WITH_FOGS   0.003192  0.003429  0.002612       1.000000  "
            ],
            "text/html": [
              "\n",
              "  <div id=\"df-44545572-a785-41ac-a51a-82f84b58a9dc\">\n",
              "    <div class=\"colab-df-container\">\n",
              "      <div>\n",
              "<style scoped>\n",
              "    .dataframe tbody tr th:only-of-type {\n",
              "        vertical-align: middle;\n",
              "    }\n",
              "\n",
              "    .dataframe tbody tr th {\n",
              "        vertical-align: top;\n",
              "    }\n",
              "\n",
              "    .dataframe thead th {\n",
              "        text-align: right;\n",
              "    }\n",
              "</style>\n",
              "<table border=\"1\" class=\"dataframe\">\n",
              "  <thead>\n",
              "    <tr style=\"text-align: right;\">\n",
              "      <th></th>\n",
              "      <th>pollutant</th>\n",
              "      <th>max_wind_speed</th>\n",
              "      <th>avg_wind_speed</th>\n",
              "      <th>min_wind_speed</th>\n",
              "      <th>max_temp</th>\n",
              "      <th>avg_temp</th>\n",
              "      <th>min_temp</th>\n",
              "      <th>DAY_WITH_FOGS</th>\n",
              "    </tr>\n",
              "  </thead>\n",
              "  <tbody>\n",
              "    <tr>\n",
              "      <th>pollutant</th>\n",
              "      <td>1.000000</td>\n",
              "      <td>0.005049</td>\n",
              "      <td>0.001564</td>\n",
              "      <td>0.000270</td>\n",
              "      <td>0.002914</td>\n",
              "      <td>0.003375</td>\n",
              "      <td>0.002614</td>\n",
              "      <td>0.090077</td>\n",
              "    </tr>\n",
              "    <tr>\n",
              "      <th>max_wind_speed</th>\n",
              "      <td>0.005049</td>\n",
              "      <td>1.000000</td>\n",
              "      <td>0.752854</td>\n",
              "      <td>0.565108</td>\n",
              "      <td>-0.005401</td>\n",
              "      <td>-0.004884</td>\n",
              "      <td>-0.004942</td>\n",
              "      <td>-0.006641</td>\n",
              "    </tr>\n",
              "    <tr>\n",
              "      <th>avg_wind_speed</th>\n",
              "      <td>0.001564</td>\n",
              "      <td>0.752854</td>\n",
              "      <td>1.000000</td>\n",
              "      <td>0.750644</td>\n",
              "      <td>-0.006726</td>\n",
              "      <td>-0.006853</td>\n",
              "      <td>-0.007950</td>\n",
              "      <td>-0.006585</td>\n",
              "    </tr>\n",
              "    <tr>\n",
              "      <th>min_wind_speed</th>\n",
              "      <td>0.000270</td>\n",
              "      <td>0.565108</td>\n",
              "      <td>0.750644</td>\n",
              "      <td>1.000000</td>\n",
              "      <td>-0.001764</td>\n",
              "      <td>-0.002531</td>\n",
              "      <td>-0.003061</td>\n",
              "      <td>-0.006167</td>\n",
              "    </tr>\n",
              "    <tr>\n",
              "      <th>max_temp</th>\n",
              "      <td>0.002914</td>\n",
              "      <td>-0.005401</td>\n",
              "      <td>-0.006726</td>\n",
              "      <td>-0.001764</td>\n",
              "      <td>1.000000</td>\n",
              "      <td>0.975139</td>\n",
              "      <td>0.950746</td>\n",
              "      <td>0.003192</td>\n",
              "    </tr>\n",
              "    <tr>\n",
              "      <th>avg_temp</th>\n",
              "      <td>0.003375</td>\n",
              "      <td>-0.004884</td>\n",
              "      <td>-0.006853</td>\n",
              "      <td>-0.002531</td>\n",
              "      <td>0.975139</td>\n",
              "      <td>1.000000</td>\n",
              "      <td>0.975169</td>\n",
              "      <td>0.003429</td>\n",
              "    </tr>\n",
              "    <tr>\n",
              "      <th>min_temp</th>\n",
              "      <td>0.002614</td>\n",
              "      <td>-0.004942</td>\n",
              "      <td>-0.007950</td>\n",
              "      <td>-0.003061</td>\n",
              "      <td>0.950746</td>\n",
              "      <td>0.975169</td>\n",
              "      <td>1.000000</td>\n",
              "      <td>0.002612</td>\n",
              "    </tr>\n",
              "    <tr>\n",
              "      <th>DAY_WITH_FOGS</th>\n",
              "      <td>0.090077</td>\n",
              "      <td>-0.006641</td>\n",
              "      <td>-0.006585</td>\n",
              "      <td>-0.006167</td>\n",
              "      <td>0.003192</td>\n",
              "      <td>0.003429</td>\n",
              "      <td>0.002612</td>\n",
              "      <td>1.000000</td>\n",
              "    </tr>\n",
              "  </tbody>\n",
              "</table>\n",
              "</div>\n",
              "      <button class=\"colab-df-convert\" onclick=\"convertToInteractive('df-44545572-a785-41ac-a51a-82f84b58a9dc')\"\n",
              "              title=\"Convert this dataframe to an interactive table.\"\n",
              "              style=\"display:none;\">\n",
              "        \n",
              "  <svg xmlns=\"http://www.w3.org/2000/svg\" height=\"24px\"viewBox=\"0 0 24 24\"\n",
              "       width=\"24px\">\n",
              "    <path d=\"M0 0h24v24H0V0z\" fill=\"none\"/>\n",
              "    <path d=\"M18.56 5.44l.94 2.06.94-2.06 2.06-.94-2.06-.94-.94-2.06-.94 2.06-2.06.94zm-11 1L8.5 8.5l.94-2.06 2.06-.94-2.06-.94L8.5 2.5l-.94 2.06-2.06.94zm10 10l.94 2.06.94-2.06 2.06-.94-2.06-.94-.94-2.06-.94 2.06-2.06.94z\"/><path d=\"M17.41 7.96l-1.37-1.37c-.4-.4-.92-.59-1.43-.59-.52 0-1.04.2-1.43.59L10.3 9.45l-7.72 7.72c-.78.78-.78 2.05 0 2.83L4 21.41c.39.39.9.59 1.41.59.51 0 1.02-.2 1.41-.59l7.78-7.78 2.81-2.81c.8-.78.8-2.07 0-2.86zM5.41 20L4 18.59l7.72-7.72 1.47 1.35L5.41 20z\"/>\n",
              "  </svg>\n",
              "      </button>\n",
              "      \n",
              "  <style>\n",
              "    .colab-df-container {\n",
              "      display:flex;\n",
              "      flex-wrap:wrap;\n",
              "      gap: 12px;\n",
              "    }\n",
              "\n",
              "    .colab-df-convert {\n",
              "      background-color: #E8F0FE;\n",
              "      border: none;\n",
              "      border-radius: 50%;\n",
              "      cursor: pointer;\n",
              "      display: none;\n",
              "      fill: #1967D2;\n",
              "      height: 32px;\n",
              "      padding: 0 0 0 0;\n",
              "      width: 32px;\n",
              "    }\n",
              "\n",
              "    .colab-df-convert:hover {\n",
              "      background-color: #E2EBFA;\n",
              "      box-shadow: 0px 1px 2px rgba(60, 64, 67, 0.3), 0px 1px 3px 1px rgba(60, 64, 67, 0.15);\n",
              "      fill: #174EA6;\n",
              "    }\n",
              "\n",
              "    [theme=dark] .colab-df-convert {\n",
              "      background-color: #3B4455;\n",
              "      fill: #D2E3FC;\n",
              "    }\n",
              "\n",
              "    [theme=dark] .colab-df-convert:hover {\n",
              "      background-color: #434B5C;\n",
              "      box-shadow: 0px 1px 3px 1px rgba(0, 0, 0, 0.15);\n",
              "      filter: drop-shadow(0px 1px 2px rgba(0, 0, 0, 0.3));\n",
              "      fill: #FFFFFF;\n",
              "    }\n",
              "  </style>\n",
              "\n",
              "      <script>\n",
              "        const buttonEl =\n",
              "          document.querySelector('#df-44545572-a785-41ac-a51a-82f84b58a9dc button.colab-df-convert');\n",
              "        buttonEl.style.display =\n",
              "          google.colab.kernel.accessAllowed ? 'block' : 'none';\n",
              "\n",
              "        async function convertToInteractive(key) {\n",
              "          const element = document.querySelector('#df-44545572-a785-41ac-a51a-82f84b58a9dc');\n",
              "          const dataTable =\n",
              "            await google.colab.kernel.invokeFunction('convertToInteractive',\n",
              "                                                     [key], {});\n",
              "          if (!dataTable) return;\n",
              "\n",
              "          const docLinkHtml = 'Like what you see? Visit the ' +\n",
              "            '<a target=\"_blank\" href=https://colab.research.google.com/notebooks/data_table.ipynb>data table notebook</a>'\n",
              "            + ' to learn more about interactive tables.';\n",
              "          element.innerHTML = '';\n",
              "          dataTable['output_type'] = 'display_data';\n",
              "          await google.colab.output.renderOutput(dataTable, element);\n",
              "          const docLink = document.createElement('div');\n",
              "          docLink.innerHTML = docLinkHtml;\n",
              "          element.appendChild(docLink);\n",
              "        }\n",
              "      </script>\n",
              "    </div>\n",
              "  </div>\n",
              "  "
            ]
          },
          "metadata": {},
          "execution_count": 121
        }
      ]
    },
    {
      "cell_type": "code",
      "source": [
        "#Check if have unbalanced data\n",
        "\n",
        "print(np.sum(df_training['pollutant']==0))\n",
        "print(np.sum(df_training['pollutant']==1))\n",
        "print(np.sum(df_training['pollutant']==2))"
      ],
      "metadata": {
        "colab": {
          "base_uri": "https://localhost:8080/"
        },
        "id": "r8xas4ZeNEfQ",
        "outputId": "1cffe0a4-d401-4869-bcd5-d1677b4e0047"
      },
      "execution_count": 122,
      "outputs": [
        {
          "output_type": "stream",
          "name": "stdout",
          "text": [
            "25982\n",
            "22964\n",
            "16682\n"
          ]
        }
      ]
    },
    {
      "cell_type": "markdown",
      "source": [
        "The data is unbalanced to some extent"
      ],
      "metadata": {
        "id": "d8LObHYvRp3r"
      }
    },
    {
      "cell_type": "code",
      "source": [
        "# Get the labels\n",
        "\n",
        "y = df_training.pop(\"pollutant\")"
      ],
      "metadata": {
        "id": "Oo3I1P6IRnYE"
      },
      "execution_count": 123,
      "outputs": []
    },
    {
      "cell_type": "code",
      "source": [
        "# Try PCA to reduce dimensionality of numerical values\n",
        "\n",
        "numerical_features = ['max_wind_speed', 'avg_wind_speed','min_wind_speed','max_temp','avg_temp','min_temp','DAY_WITH_FOGS']\n",
        "X_train_num = df_training[numerical_features]\n",
        "\n",
        "# pca = PCA(n_components=5)\n",
        "# pca.fit(X_train_num)\n",
        "# X_train_num_transform = pca.transform(X_train_num)\n",
        "# print(pca.explained_variance_ratio_.sum())"
      ],
      "metadata": {
        "id": "EUDRaCn3Rm4J"
      },
      "execution_count": 18,
      "outputs": []
    },
    {
      "cell_type": "code",
      "source": [
        "categorical_features = [\"countryName\",\t\"eprtrSectorName\",\t\"EPRTRAnnexIMainActivityLabel\",\t\"reportingYear\",\t\"MONTH\"]\n",
        "x_train_feat = df_training[categorical_features]"
      ],
      "metadata": {
        "id": "JEsjL1SjbYCI"
      },
      "execution_count": 19,
      "outputs": []
    },
    {
      "cell_type": "code",
      "source": [
        "X_train, X_test, y_train, y_test = train_test_split(df_training,y,test_size=0.05, random_state=seed)"
      ],
      "metadata": {
        "id": "VLoNsRrlg5Jy"
      },
      "execution_count": 183,
      "outputs": []
    },
    {
      "cell_type": "code",
      "source": [
        "col_trans = make_column_transformer(\n",
        "                        (OneHotEncoder(),categorical_features),\n",
        "                        remainder = \"passthrough\"\n",
        "                        )"
      ],
      "metadata": {
        "id": "Vudl-elmjW6Z"
      },
      "execution_count": 22,
      "outputs": []
    },
    {
      "cell_type": "code",
      "source": [
        "from sklearn.neural_network import MLPClassifier\n",
        "from sklearn.ensemble import AdaBoostClassifier\n",
        "from sklearn.ensemble import RandomForestClassifier\n",
        "\n",
        "rf = RandomForestClassifier(\n",
        "              min_samples_leaf=50,\n",
        "              n_estimators=150,\n",
        "              bootstrap=True,\n",
        "              oob_score=True,\n",
        "              n_jobs=-1,\n",
        "              max_features='auto')\n",
        "\n",
        "ann = MLPClassifier(solver='lbfgs', alpha=1e-5,\n",
        "                    hidden_layer_sizes=(128, 64), random_state=1)\n",
        "\n",
        "ada = AdaBoostClassifier(n_estimators=100)\n",
        "\n"
      ],
      "metadata": {
        "id": "Uh1fKjM9jk7M"
      },
      "execution_count": 82,
      "outputs": []
    },
    {
      "cell_type": "code",
      "source": [
        "from sklearn.pipeline import make_pipeline\n",
        "\n",
        "rf_pipe = make_pipeline(col_trans, rf)\n",
        "rf_pipe.fit(X_train, y_train)\n",
        "y_pred = rf_pipe.predict(X_test)\n",
        "print(classification_report(y_test, y_pred))"
      ],
      "metadata": {
        "colab": {
          "base_uri": "https://localhost:8080/"
        },
        "id": "Q-Uf7mLtjtDL",
        "outputId": "97782290-0f82-453b-a26f-ec4d8fbf32c6"
      },
      "execution_count": 83,
      "outputs": [
        {
          "output_type": "stream",
          "name": "stdout",
          "text": [
            "              precision    recall  f1-score   support\n",
            "\n",
            "           0       0.53      0.75      0.63      5169\n",
            "           1       0.55      0.34      0.42      4618\n",
            "           2       0.92      0.82      0.87      3339\n",
            "\n",
            "    accuracy                           0.63     13126\n",
            "   macro avg       0.67      0.64      0.64     13126\n",
            "weighted avg       0.64      0.63      0.62     13126\n",
            "\n"
          ]
        }
      ]
    },
    {
      "cell_type": "code",
      "source": [
        "ann_pipe = make_pipeline(col_trans, ann)\n",
        "ann_pipe.fit(X_train, y_train)\n",
        "y_pred = ann_pipe.predict(X_test)\n",
        "print(classification_report(y_test, y_pred))"
      ],
      "metadata": {
        "colab": {
          "base_uri": "https://localhost:8080/"
        },
        "id": "vNzXsD5Bl4J3",
        "outputId": "90874814-9300-43ad-f6f9-b4354538f46d"
      },
      "execution_count": 84,
      "outputs": [
        {
          "output_type": "stream",
          "name": "stdout",
          "text": [
            "              precision    recall  f1-score   support\n",
            "\n",
            "           0       0.50      0.81      0.62      5169\n",
            "           1       0.46      0.17      0.25      4618\n",
            "           2       0.93      0.82      0.87      3339\n",
            "\n",
            "    accuracy                           0.59     13126\n",
            "   macro avg       0.63      0.60      0.58     13126\n",
            "weighted avg       0.59      0.59      0.55     13126\n",
            "\n"
          ]
        },
        {
          "output_type": "stream",
          "name": "stderr",
          "text": [
            "/usr/local/lib/python3.7/dist-packages/sklearn/neural_network/_multilayer_perceptron.py:549: ConvergenceWarning: lbfgs failed to converge (status=1):\n",
            "STOP: TOTAL NO. of ITERATIONS REACHED LIMIT.\n",
            "\n",
            "Increase the number of iterations (max_iter) or scale the data as shown in:\n",
            "    https://scikit-learn.org/stable/modules/preprocessing.html\n",
            "  self.n_iter_ = _check_optimize_result(\"lbfgs\", opt_res, self.max_iter)\n"
          ]
        }
      ]
    },
    {
      "cell_type": "code",
      "source": [
        "ada_pipe = make_pipeline(col_trans, ada)\n",
        "ada_pipe.fit(X_train, y_train)\n",
        "y_pred = ada_pipe.predict(X_test)\n",
        "print(classification_report(y_test, y_pred))"
      ],
      "metadata": {
        "colab": {
          "base_uri": "https://localhost:8080/"
        },
        "id": "d6jPx5mKmkcu",
        "outputId": "8910f368-658f-4be6-bbdb-b536747266d3"
      },
      "execution_count": 85,
      "outputs": [
        {
          "output_type": "stream",
          "name": "stdout",
          "text": [
            "              precision    recall  f1-score   support\n",
            "\n",
            "           0       0.54      0.66      0.59      5169\n",
            "           1       0.53      0.43      0.47      4618\n",
            "           2       0.91      0.83      0.87      3339\n",
            "\n",
            "    accuracy                           0.62     13126\n",
            "   macro avg       0.66      0.64      0.64     13126\n",
            "weighted avg       0.63      0.62      0.62     13126\n",
            "\n"
          ]
        }
      ]
    },
    {
      "cell_type": "markdown",
      "source": [
        "# Tensorflow implementation"
      ],
      "metadata": {
        "id": "CBP78GzYtDGB"
      }
    },
    {
      "cell_type": "code",
      "source": [
        "import tensorflow as tf\n",
        "from tensorflow import feature_column\n",
        "from tensorflow.keras import layers"
      ],
      "metadata": {
        "id": "Wolob1sTkdTA"
      },
      "execution_count": 184,
      "outputs": []
    },
    {
      "cell_type": "code",
      "source": [
        "batch_size = 64"
      ],
      "metadata": {
        "id": "VA0Ly30WtgNO"
      },
      "execution_count": 185,
      "outputs": []
    },
    {
      "cell_type": "code",
      "source": [
        "train_ds = tf.data.Dataset.from_tensor_slices((dict(X_train), y_train))\n",
        "test_ds = tf.data.Dataset.from_tensor_slices((dict(X_test), y_test))\n",
        "\n",
        "train_ds = train_ds.shuffle(buffer_size=len(y_train))\n",
        "test_ds = test_ds.shuffle(buffer_size=len(y_test))\n",
        "\n",
        "train_ds = train_ds.batch(batch_size)\n",
        "test_ds = test_ds.batch(batch_size)"
      ],
      "metadata": {
        "id": "x2S02JJ0tLnf"
      },
      "execution_count": 186,
      "outputs": []
    },
    {
      "cell_type": "code",
      "source": [
        "for feature_batch, label_batch in train_ds.take(1):\n",
        "  print('Every feature:', list(feature_batch.keys()))\n",
        "  print('A batch of targets:', label_batch )\n"
      ],
      "metadata": {
        "colab": {
          "base_uri": "https://localhost:8080/"
        },
        "id": "mCnh2Jy4t7NP",
        "outputId": "75844f69-f02d-4766-e203-d3d2a4201c2e"
      },
      "execution_count": 187,
      "outputs": [
        {
          "output_type": "stream",
          "name": "stdout",
          "text": [
            "Every feature: ['countryName', 'eprtrSectorName', 'EPRTRAnnexIMainActivityLabel', 'reportingYear', 'MONTH', 'max_wind_speed', 'avg_wind_speed', 'min_wind_speed', 'max_temp', 'avg_temp', 'min_temp', 'DAY_WITH_FOGS', 'CITY_ID']\n",
            "A batch of targets: tf.Tensor(\n",
            "[0 2 1 2 1 1 0 0 1 0 2 0 2 0 2 0 1 1 2 0 0 0 1 2 1 0 0 1 0 0 0 2 1 1 1 0 1\n",
            " 0 2 0 1 0 2 0 1 1 1 2 1 1 1 0 0 2 0 0 1 0 0 0 0 1 1 1], shape=(64,), dtype=int64)\n"
          ]
        }
      ]
    },
    {
      "cell_type": "code",
      "source": [
        "feature_columns = []\n",
        "\n",
        "#Define feature columns\n",
        "\n",
        "#numerical\n",
        "for attrib in ['DAY_WITH_FOGS','max_wind_speed', 'avg_wind_speed', 'min_wind_speed', 'max_temp', 'avg_temp', 'min_temp']:\n",
        "  feature_columns.append(feature_column.numeric_column(attrib))\n",
        "\n",
        "\n",
        "# One hot. Only 9 values\n",
        "sector_name = feature_column.categorical_column_with_vocabulary_list(\n",
        "      'eprtrSectorName', df_training['eprtrSectorName'].unique())\n",
        "sector_name_one_hot = feature_column.indicator_column(sector_name)\n",
        "feature_columns.append(sector_name_one_hot)\n",
        "\n",
        "# One hot year and month, also cross it\n",
        "year = feature_column.categorical_column_with_vocabulary_list(\n",
        "      'reportingYear', df_training['reportingYear'].unique())\n",
        "year_one_hot = feature_column.indicator_column(year)\n",
        "feature_columns.append(year_one_hot)\n",
        "\n",
        "month = feature_column.categorical_column_with_vocabulary_list(\n",
        "      'MONTH', df_training['MONTH'].unique())\n",
        "month_one_hot = feature_column.indicator_column(month)\n",
        "feature_columns.append(month_one_hot)\n",
        "\n",
        "# embeding countries \n",
        "countries = feature_column.categorical_column_with_vocabulary_list(\n",
        "      'countryName', df_training['countryName'].unique())\n",
        "countries_embedding = feature_column.embedding_column(countries, dimension=8)\n",
        "feature_columns.append(countries_embedding)\n",
        "\n",
        "# Embeding citys\n",
        "city = feature_column.categorical_column_with_vocabulary_list(\n",
        "      'CITY_ID', df_training['CITY_ID'].unique())\n",
        "city_embedding = feature_column.embedding_column(city, dimension=8)\n",
        "feature_columns.append(city_embedding)\n",
        "\n",
        "\n",
        "# Embeding EPRTRAnnexIMainActivityLabel\n",
        "EPRTR = feature_column.categorical_column_with_vocabulary_list(\n",
        "      'EPRTRAnnexIMainActivityLabel', df_training['EPRTRAnnexIMainActivityLabel'].unique())\n",
        "EPRTR_embedding = feature_column.embedding_column(EPRTR, dimension=32)\n",
        "feature_columns.append(EPRTR_embedding)"
      ],
      "metadata": {
        "id": "0VtE8XMv0ZAW"
      },
      "execution_count": 188,
      "outputs": []
    },
    {
      "cell_type": "code",
      "source": [
        "feature_layer = tf.keras.layers.DenseFeatures(feature_columns)"
      ],
      "metadata": {
        "id": "c4zLT7tH0ayL"
      },
      "execution_count": 189,
      "outputs": []
    },
    {
      "cell_type": "code",
      "source": [
        "model = tf.keras.Sequential([\n",
        "  feature_layer,\n",
        "  layers.Dense(1024, activation='relu'),\n",
        "  layers.Dense(512, activation='relu'),\n",
        "  layers.Dense(128, activation='relu'),\n",
        "  layers.Dense(3)\n",
        "])\n",
        "\n",
        "model.compile(optimizer='adam',\n",
        "              loss=tf.keras.losses.SparseCategoricalCrossentropy(from_logits=True),\n",
        "              metrics=['accuracy'])"
      ],
      "metadata": {
        "id": "2TgNsNld55Yk"
      },
      "execution_count": 190,
      "outputs": []
    },
    {
      "cell_type": "code",
      "source": [
        "model.fit(train_ds, validation_data=test_ds, epochs=50)"
      ],
      "metadata": {
        "colab": {
          "base_uri": "https://localhost:8080/",
          "height": 1000
        },
        "id": "vQK2rNuL7cvj",
        "outputId": "dab17288-3626-4d33-d59d-2821faafd560"
      },
      "execution_count": 191,
      "outputs": [
        {
          "output_type": "stream",
          "name": "stdout",
          "text": [
            "Epoch 1/50\n",
            "WARNING:tensorflow:Layers in a Sequential model should only have a single input tensor. Received: inputs={'countryName': <tf.Tensor 'IteratorGetNext:6' shape=(None,) dtype=string>, 'eprtrSectorName': <tf.Tensor 'IteratorGetNext:7' shape=(None,) dtype=string>, 'EPRTRAnnexIMainActivityLabel': <tf.Tensor 'IteratorGetNext:2' shape=(None,) dtype=string>, 'reportingYear': <tf.Tensor 'IteratorGetNext:12' shape=(None,) dtype=int64>, 'MONTH': <tf.Tensor 'IteratorGetNext:3' shape=(None,) dtype=int64>, 'max_wind_speed': <tf.Tensor 'IteratorGetNext:9' shape=(None,) dtype=float64>, 'avg_wind_speed': <tf.Tensor 'IteratorGetNext:5' shape=(None,) dtype=float64>, 'min_wind_speed': <tf.Tensor 'IteratorGetNext:11' shape=(None,) dtype=float64>, 'max_temp': <tf.Tensor 'IteratorGetNext:8' shape=(None,) dtype=float64>, 'avg_temp': <tf.Tensor 'IteratorGetNext:4' shape=(None,) dtype=float64>, 'min_temp': <tf.Tensor 'IteratorGetNext:10' shape=(None,) dtype=float64>, 'DAY_WITH_FOGS': <tf.Tensor 'IteratorGetNext:1' shape=(None,) dtype=int64>, 'CITY_ID': <tf.Tensor 'IteratorGetNext:0' shape=(None,) dtype=string>}. Consider rewriting this model with the Functional API.\n",
            "WARNING:tensorflow:Layers in a Sequential model should only have a single input tensor. Received: inputs={'countryName': <tf.Tensor 'IteratorGetNext:6' shape=(None,) dtype=string>, 'eprtrSectorName': <tf.Tensor 'IteratorGetNext:7' shape=(None,) dtype=string>, 'EPRTRAnnexIMainActivityLabel': <tf.Tensor 'IteratorGetNext:2' shape=(None,) dtype=string>, 'reportingYear': <tf.Tensor 'IteratorGetNext:12' shape=(None,) dtype=int64>, 'MONTH': <tf.Tensor 'IteratorGetNext:3' shape=(None,) dtype=int64>, 'max_wind_speed': <tf.Tensor 'IteratorGetNext:9' shape=(None,) dtype=float64>, 'avg_wind_speed': <tf.Tensor 'IteratorGetNext:5' shape=(None,) dtype=float64>, 'min_wind_speed': <tf.Tensor 'IteratorGetNext:11' shape=(None,) dtype=float64>, 'max_temp': <tf.Tensor 'IteratorGetNext:8' shape=(None,) dtype=float64>, 'avg_temp': <tf.Tensor 'IteratorGetNext:4' shape=(None,) dtype=float64>, 'min_temp': <tf.Tensor 'IteratorGetNext:10' shape=(None,) dtype=float64>, 'DAY_WITH_FOGS': <tf.Tensor 'IteratorGetNext:1' shape=(None,) dtype=int64>, 'CITY_ID': <tf.Tensor 'IteratorGetNext:0' shape=(None,) dtype=string>}. Consider rewriting this model with the Functional API.\n",
            "973/975 [============================>.] - ETA: 0s - loss: 0.7341 - accuracy: 0.5924WARNING:tensorflow:Layers in a Sequential model should only have a single input tensor. Received: inputs={'countryName': <tf.Tensor 'IteratorGetNext:6' shape=(None,) dtype=string>, 'eprtrSectorName': <tf.Tensor 'IteratorGetNext:7' shape=(None,) dtype=string>, 'EPRTRAnnexIMainActivityLabel': <tf.Tensor 'IteratorGetNext:2' shape=(None,) dtype=string>, 'reportingYear': <tf.Tensor 'IteratorGetNext:12' shape=(None,) dtype=int64>, 'MONTH': <tf.Tensor 'IteratorGetNext:3' shape=(None,) dtype=int64>, 'max_wind_speed': <tf.Tensor 'IteratorGetNext:9' shape=(None,) dtype=float64>, 'avg_wind_speed': <tf.Tensor 'IteratorGetNext:5' shape=(None,) dtype=float64>, 'min_wind_speed': <tf.Tensor 'IteratorGetNext:11' shape=(None,) dtype=float64>, 'max_temp': <tf.Tensor 'IteratorGetNext:8' shape=(None,) dtype=float64>, 'avg_temp': <tf.Tensor 'IteratorGetNext:4' shape=(None,) dtype=float64>, 'min_temp': <tf.Tensor 'IteratorGetNext:10' shape=(None,) dtype=float64>, 'DAY_WITH_FOGS': <tf.Tensor 'IteratorGetNext:1' shape=(None,) dtype=int64>, 'CITY_ID': <tf.Tensor 'IteratorGetNext:0' shape=(None,) dtype=string>}. Consider rewriting this model with the Functional API.\n",
            "975/975 [==============================] - 15s 13ms/step - loss: 0.7340 - accuracy: 0.5925 - val_loss: 0.6669 - val_accuracy: 0.6127\n",
            "Epoch 2/50\n",
            "975/975 [==============================] - 13s 13ms/step - loss: 0.6494 - accuracy: 0.6269 - val_loss: 0.6315 - val_accuracy: 0.6286\n",
            "Epoch 3/50\n",
            "975/975 [==============================] - 13s 13ms/step - loss: 0.6068 - accuracy: 0.6467 - val_loss: 0.6089 - val_accuracy: 0.6353\n",
            "Epoch 4/50\n",
            "975/975 [==============================] - 13s 13ms/step - loss: 0.5819 - accuracy: 0.6568 - val_loss: 0.5945 - val_accuracy: 0.6344\n",
            "Epoch 5/50\n",
            "975/975 [==============================] - 13s 13ms/step - loss: 0.5678 - accuracy: 0.6617 - val_loss: 0.5974 - val_accuracy: 0.6429\n",
            "Epoch 6/50\n",
            "975/975 [==============================] - 13s 12ms/step - loss: 0.5576 - accuracy: 0.6677 - val_loss: 0.5835 - val_accuracy: 0.6481\n",
            "Epoch 7/50\n",
            "975/975 [==============================] - 13s 12ms/step - loss: 0.5505 - accuracy: 0.6720 - val_loss: 0.5746 - val_accuracy: 0.6459\n",
            "Epoch 8/50\n",
            "975/975 [==============================] - 13s 13ms/step - loss: 0.5465 - accuracy: 0.6717 - val_loss: 0.5749 - val_accuracy: 0.6432\n",
            "Epoch 9/50\n",
            "975/975 [==============================] - 12s 12ms/step - loss: 0.5420 - accuracy: 0.6769 - val_loss: 0.5683 - val_accuracy: 0.6469\n",
            "Epoch 10/50\n",
            "975/975 [==============================] - 13s 13ms/step - loss: 0.5381 - accuracy: 0.6767 - val_loss: 0.5723 - val_accuracy: 0.6459\n",
            "Epoch 11/50\n",
            "975/975 [==============================] - 13s 13ms/step - loss: 0.5344 - accuracy: 0.6808 - val_loss: 0.5793 - val_accuracy: 0.6463\n",
            "Epoch 12/50\n",
            "975/975 [==============================] - 13s 13ms/step - loss: 0.5311 - accuracy: 0.6844 - val_loss: 0.5899 - val_accuracy: 0.6481\n",
            "Epoch 13/50\n",
            "975/975 [==============================] - 13s 13ms/step - loss: 0.5281 - accuracy: 0.6855 - val_loss: 0.5762 - val_accuracy: 0.6429\n",
            "Epoch 14/50\n",
            "975/975 [==============================] - 13s 13ms/step - loss: 0.5242 - accuracy: 0.6880 - val_loss: 0.5762 - val_accuracy: 0.6478\n",
            "Epoch 15/50\n",
            "975/975 [==============================] - 12s 12ms/step - loss: 0.5206 - accuracy: 0.6907 - val_loss: 0.5779 - val_accuracy: 0.6478\n",
            "Epoch 16/50\n",
            "975/975 [==============================] - 13s 13ms/step - loss: 0.5166 - accuracy: 0.6947 - val_loss: 0.5814 - val_accuracy: 0.6557\n",
            "Epoch 17/50\n",
            "975/975 [==============================] - 13s 13ms/step - loss: 0.5135 - accuracy: 0.6998 - val_loss: 0.5929 - val_accuracy: 0.6514\n",
            "Epoch 18/50\n",
            "975/975 [==============================] - 13s 13ms/step - loss: 0.5089 - accuracy: 0.7021 - val_loss: 0.5935 - val_accuracy: 0.6508\n",
            "Epoch 19/50\n",
            "975/975 [==============================] - 13s 13ms/step - loss: 0.5052 - accuracy: 0.7066 - val_loss: 0.6001 - val_accuracy: 0.6615\n",
            "Epoch 20/50\n",
            "975/975 [==============================] - 12s 12ms/step - loss: 0.5009 - accuracy: 0.7082 - val_loss: 0.6141 - val_accuracy: 0.6609\n",
            "Epoch 21/50\n",
            "975/975 [==============================] - 13s 13ms/step - loss: 0.4972 - accuracy: 0.7104 - val_loss: 0.6082 - val_accuracy: 0.6517\n",
            "Epoch 22/50\n",
            "975/975 [==============================] - 13s 13ms/step - loss: 0.4940 - accuracy: 0.7139 - val_loss: 0.6073 - val_accuracy: 0.6533\n",
            "Epoch 23/50\n",
            "975/975 [==============================] - 13s 13ms/step - loss: 0.4892 - accuracy: 0.7182 - val_loss: 0.6458 - val_accuracy: 0.6560\n",
            "Epoch 24/50\n",
            "975/975 [==============================] - 13s 13ms/step - loss: 0.4850 - accuracy: 0.7208 - val_loss: 0.6264 - val_accuracy: 0.6438\n",
            "Epoch 25/50\n",
            "975/975 [==============================] - 13s 13ms/step - loss: 0.4815 - accuracy: 0.7242 - val_loss: 0.6475 - val_accuracy: 0.6609\n",
            "Epoch 26/50\n",
            "975/975 [==============================] - 13s 13ms/step - loss: 0.4759 - accuracy: 0.7292 - val_loss: 0.6538 - val_accuracy: 0.6594\n",
            "Epoch 27/50\n",
            "975/975 [==============================] - 13s 13ms/step - loss: 0.4721 - accuracy: 0.7328 - val_loss: 0.6688 - val_accuracy: 0.6679\n",
            "Epoch 28/50\n",
            "975/975 [==============================] - 13s 13ms/step - loss: 0.4671 - accuracy: 0.7340 - val_loss: 0.6765 - val_accuracy: 0.6594\n",
            "Epoch 29/50\n",
            "975/975 [==============================] - 13s 13ms/step - loss: 0.4625 - accuracy: 0.7404 - val_loss: 0.6854 - val_accuracy: 0.6712\n",
            "Epoch 30/50\n",
            "975/975 [==============================] - 13s 13ms/step - loss: 0.4573 - accuracy: 0.7436 - val_loss: 0.6921 - val_accuracy: 0.6654\n",
            "Epoch 31/50\n",
            "975/975 [==============================] - 13s 13ms/step - loss: 0.4512 - accuracy: 0.7472 - val_loss: 0.6946 - val_accuracy: 0.6682\n",
            "Epoch 32/50\n",
            "975/975 [==============================] - 13s 13ms/step - loss: 0.4451 - accuracy: 0.7531 - val_loss: 0.7041 - val_accuracy: 0.6664\n",
            "Epoch 33/50\n",
            "975/975 [==============================] - 13s 13ms/step - loss: 0.4391 - accuracy: 0.7579 - val_loss: 0.7891 - val_accuracy: 0.6618\n",
            "Epoch 34/50\n",
            "975/975 [==============================] - 13s 13ms/step - loss: 0.4343 - accuracy: 0.7620 - val_loss: 0.7593 - val_accuracy: 0.6578\n",
            "Epoch 35/50\n",
            "975/975 [==============================] - 13s 13ms/step - loss: 0.4256 - accuracy: 0.7682 - val_loss: 0.7653 - val_accuracy: 0.6694\n",
            "Epoch 36/50\n",
            "975/975 [==============================] - 13s 13ms/step - loss: 0.4188 - accuracy: 0.7735 - val_loss: 0.7851 - val_accuracy: 0.6682\n",
            "Epoch 37/50\n",
            "975/975 [==============================] - 13s 13ms/step - loss: 0.4106 - accuracy: 0.7790 - val_loss: 0.8154 - val_accuracy: 0.6670\n",
            "Epoch 38/50\n",
            "975/975 [==============================] - 13s 13ms/step - loss: 0.4059 - accuracy: 0.7830 - val_loss: 0.8525 - val_accuracy: 0.6694\n",
            "Epoch 39/50\n",
            "975/975 [==============================] - 13s 13ms/step - loss: 0.3975 - accuracy: 0.7891 - val_loss: 0.8696 - val_accuracy: 0.6691\n"
          ]
        },
        {
          "output_type": "error",
          "ename": "KeyboardInterrupt",
          "evalue": "ignored",
          "traceback": [
            "\u001b[0;31m---------------------------------------------------------------------------\u001b[0m",
            "\u001b[0;31mKeyboardInterrupt\u001b[0m                         Traceback (most recent call last)",
            "\u001b[0;32m<ipython-input-191-48ad3c8d898e>\u001b[0m in \u001b[0;36m<module>\u001b[0;34m()\u001b[0m\n\u001b[0;32m----> 1\u001b[0;31m \u001b[0mmodel\u001b[0m\u001b[0;34m.\u001b[0m\u001b[0mfit\u001b[0m\u001b[0;34m(\u001b[0m\u001b[0mtrain_ds\u001b[0m\u001b[0;34m,\u001b[0m \u001b[0mvalidation_data\u001b[0m\u001b[0;34m=\u001b[0m\u001b[0mtest_ds\u001b[0m\u001b[0;34m,\u001b[0m \u001b[0mepochs\u001b[0m\u001b[0;34m=\u001b[0m\u001b[0;36m50\u001b[0m\u001b[0;34m)\u001b[0m\u001b[0;34m\u001b[0m\u001b[0;34m\u001b[0m\u001b[0m\n\u001b[0m",
            "\u001b[0;32m/usr/local/lib/python3.7/dist-packages/keras/utils/traceback_utils.py\u001b[0m in \u001b[0;36merror_handler\u001b[0;34m(*args, **kwargs)\u001b[0m\n\u001b[1;32m     62\u001b[0m     \u001b[0mfiltered_tb\u001b[0m \u001b[0;34m=\u001b[0m \u001b[0;32mNone\u001b[0m\u001b[0;34m\u001b[0m\u001b[0;34m\u001b[0m\u001b[0m\n\u001b[1;32m     63\u001b[0m     \u001b[0;32mtry\u001b[0m\u001b[0;34m:\u001b[0m\u001b[0;34m\u001b[0m\u001b[0;34m\u001b[0m\u001b[0m\n\u001b[0;32m---> 64\u001b[0;31m       \u001b[0;32mreturn\u001b[0m \u001b[0mfn\u001b[0m\u001b[0;34m(\u001b[0m\u001b[0;34m*\u001b[0m\u001b[0margs\u001b[0m\u001b[0;34m,\u001b[0m \u001b[0;34m**\u001b[0m\u001b[0mkwargs\u001b[0m\u001b[0;34m)\u001b[0m\u001b[0;34m\u001b[0m\u001b[0;34m\u001b[0m\u001b[0m\n\u001b[0m\u001b[1;32m     65\u001b[0m     \u001b[0;32mexcept\u001b[0m \u001b[0mException\u001b[0m \u001b[0;32mas\u001b[0m \u001b[0me\u001b[0m\u001b[0;34m:\u001b[0m  \u001b[0;31m# pylint: disable=broad-except\u001b[0m\u001b[0;34m\u001b[0m\u001b[0;34m\u001b[0m\u001b[0m\n\u001b[1;32m     66\u001b[0m       \u001b[0mfiltered_tb\u001b[0m \u001b[0;34m=\u001b[0m \u001b[0m_process_traceback_frames\u001b[0m\u001b[0;34m(\u001b[0m\u001b[0me\u001b[0m\u001b[0;34m.\u001b[0m\u001b[0m__traceback__\u001b[0m\u001b[0;34m)\u001b[0m\u001b[0;34m\u001b[0m\u001b[0;34m\u001b[0m\u001b[0m\n",
            "\u001b[0;32m/usr/local/lib/python3.7/dist-packages/keras/engine/training.py\u001b[0m in \u001b[0;36mfit\u001b[0;34m(self, x, y, batch_size, epochs, verbose, callbacks, validation_split, validation_data, shuffle, class_weight, sample_weight, initial_epoch, steps_per_epoch, validation_steps, validation_batch_size, validation_freq, max_queue_size, workers, use_multiprocessing)\u001b[0m\n\u001b[1;32m   1371\u001b[0m       \u001b[0mlogs\u001b[0m \u001b[0;34m=\u001b[0m \u001b[0;32mNone\u001b[0m\u001b[0;34m\u001b[0m\u001b[0;34m\u001b[0m\u001b[0m\n\u001b[1;32m   1372\u001b[0m       \u001b[0;32mfor\u001b[0m \u001b[0mepoch\u001b[0m\u001b[0;34m,\u001b[0m \u001b[0miterator\u001b[0m \u001b[0;32min\u001b[0m \u001b[0mdata_handler\u001b[0m\u001b[0;34m.\u001b[0m\u001b[0menumerate_epochs\u001b[0m\u001b[0;34m(\u001b[0m\u001b[0;34m)\u001b[0m\u001b[0;34m:\u001b[0m\u001b[0;34m\u001b[0m\u001b[0;34m\u001b[0m\u001b[0m\n\u001b[0;32m-> 1373\u001b[0;31m         \u001b[0mself\u001b[0m\u001b[0;34m.\u001b[0m\u001b[0mreset_metrics\u001b[0m\u001b[0;34m(\u001b[0m\u001b[0;34m)\u001b[0m\u001b[0;34m\u001b[0m\u001b[0;34m\u001b[0m\u001b[0m\n\u001b[0m\u001b[1;32m   1374\u001b[0m         \u001b[0mcallbacks\u001b[0m\u001b[0;34m.\u001b[0m\u001b[0mon_epoch_begin\u001b[0m\u001b[0;34m(\u001b[0m\u001b[0mepoch\u001b[0m\u001b[0;34m)\u001b[0m\u001b[0;34m\u001b[0m\u001b[0;34m\u001b[0m\u001b[0m\n\u001b[1;32m   1375\u001b[0m         \u001b[0;32mwith\u001b[0m \u001b[0mdata_handler\u001b[0m\u001b[0;34m.\u001b[0m\u001b[0mcatch_stop_iteration\u001b[0m\u001b[0;34m(\u001b[0m\u001b[0;34m)\u001b[0m\u001b[0;34m:\u001b[0m\u001b[0;34m\u001b[0m\u001b[0;34m\u001b[0m\u001b[0m\n",
            "\u001b[0;31mKeyboardInterrupt\u001b[0m: "
          ]
        }
      ]
    },
    {
      "cell_type": "code",
      "source": [
        "y_pred = np.argmax(model.predict(dict(X_test)),axis=1)\n",
        "print(classification_report(y_test, y_pred))"
      ],
      "metadata": {
        "colab": {
          "base_uri": "https://localhost:8080/"
        },
        "id": "fCwP1mzf7fEI",
        "outputId": "cbbe3dab-c9dd-4fcd-b4df-a41f058292c0"
      },
      "execution_count": 192,
      "outputs": [
        {
          "output_type": "stream",
          "name": "stdout",
          "text": [
            "WARNING:tensorflow:Layers in a Sequential model should only have a single input tensor. Received: inputs={'countryName': <tf.Tensor 'IteratorGetNext:6' shape=(None, 1) dtype=string>, 'eprtrSectorName': <tf.Tensor 'IteratorGetNext:7' shape=(None, 1) dtype=string>, 'EPRTRAnnexIMainActivityLabel': <tf.Tensor 'IteratorGetNext:2' shape=(None, 1) dtype=string>, 'reportingYear': <tf.Tensor 'IteratorGetNext:12' shape=(None, 1) dtype=int64>, 'MONTH': <tf.Tensor 'IteratorGetNext:3' shape=(None, 1) dtype=int64>, 'max_wind_speed': <tf.Tensor 'IteratorGetNext:9' shape=(None, 1) dtype=float32>, 'avg_wind_speed': <tf.Tensor 'IteratorGetNext:5' shape=(None, 1) dtype=float32>, 'min_wind_speed': <tf.Tensor 'IteratorGetNext:11' shape=(None, 1) dtype=float32>, 'max_temp': <tf.Tensor 'IteratorGetNext:8' shape=(None, 1) dtype=float32>, 'avg_temp': <tf.Tensor 'IteratorGetNext:4' shape=(None, 1) dtype=float32>, 'min_temp': <tf.Tensor 'IteratorGetNext:10' shape=(None, 1) dtype=float32>, 'DAY_WITH_FOGS': <tf.Tensor 'IteratorGetNext:1' shape=(None, 1) dtype=int64>, 'CITY_ID': <tf.Tensor 'IteratorGetNext:0' shape=(None, 1) dtype=string>}. Consider rewriting this model with the Functional API.\n",
            "              precision    recall  f1-score   support\n",
            "\n",
            "           0       0.61      0.64      0.63      1305\n",
            "           1       0.57      0.53      0.55      1143\n",
            "           2       0.88      0.91      0.89       834\n",
            "\n",
            "    accuracy                           0.67      3282\n",
            "   macro avg       0.69      0.69      0.69      3282\n",
            "weighted avg       0.67      0.67      0.67      3282\n",
            "\n"
          ]
        }
      ]
    },
    {
      "cell_type": "code",
      "source": [
        "y_pred = np.argmax(model.predict(dict(X_test)),axis=1)\n",
        "print(classification_report(y_test, y_pred))"
      ],
      "metadata": {
        "colab": {
          "base_uri": "https://localhost:8080/"
        },
        "id": "sgTT8dFVWaQq",
        "outputId": "62542cfc-09f9-4dc5-80d7-0359aefd58d2"
      },
      "execution_count": 182,
      "outputs": [
        {
          "output_type": "stream",
          "name": "stdout",
          "text": [
            "              precision    recall  f1-score   support\n",
            "\n",
            "           0       0.64      0.62      0.63      5169\n",
            "           1       0.60      0.60      0.60      4618\n",
            "           2       0.90      0.91      0.90      3339\n",
            "\n",
            "    accuracy                           0.69     13126\n",
            "   macro avg       0.71      0.71      0.71     13126\n",
            "weighted avg       0.69      0.69      0.69     13126\n",
            "\n"
          ]
        }
      ]
    },
    {
      "cell_type": "markdown",
      "source": [
        "# Predictions"
      ],
      "metadata": {
        "id": "yFnIMiJzNo4m"
      }
    },
    {
      "cell_type": "code",
      "source": [
        "test_data = pd.read_csv('raw_train/csv/train1.csv')"
      ],
      "metadata": {
        "id": "5cWjDxPU_qGt"
      },
      "execution_count": 193,
      "outputs": []
    },
    {
      "cell_type": "code",
      "source": [
        "test_data = curate_dataframe(test_data)"
      ],
      "metadata": {
        "colab": {
          "base_uri": "https://localhost:8080/"
        },
        "id": "AhcnJVHUFBfQ",
        "outputId": "3bec72d9-a5e2-4ae4-f118-b28898756697"
      },
      "execution_count": 194,
      "outputs": [
        {
          "output_type": "stream",
          "name": "stdout",
          "text": [
            "Atrribute not present\n",
            "Atrribute not present\n",
            "Atrribute not present\n"
          ]
        }
      ]
    },
    {
      "cell_type": "code",
      "source": [
        "final_preds = np.argmax(model.predict(dict(test_data)),axis=1)"
      ],
      "metadata": {
        "colab": {
          "base_uri": "https://localhost:8080/"
        },
        "id": "hiE4gPMwIeNJ",
        "outputId": "4ea67e87-8d39-4778-dcc2-7c3f0e1de1db"
      },
      "execution_count": 195,
      "outputs": [
        {
          "output_type": "stream",
          "name": "stdout",
          "text": [
            "WARNING:tensorflow:Layers in a Sequential model should only have a single input tensor. Received: inputs={'countryName': <tf.Tensor 'IteratorGetNext:6' shape=(None, 1) dtype=string>, 'eprtrSectorName': <tf.Tensor 'IteratorGetNext:7' shape=(None, 1) dtype=string>, 'EPRTRAnnexIMainActivityLabel': <tf.Tensor 'IteratorGetNext:2' shape=(None, 1) dtype=string>, 'pollutant': <tf.Tensor 'IteratorGetNext:12' shape=(None, 1) dtype=int64>, 'reportingYear': <tf.Tensor 'IteratorGetNext:13' shape=(None, 1) dtype=int64>, 'MONTH': <tf.Tensor 'IteratorGetNext:3' shape=(None, 1) dtype=int64>, 'max_wind_speed': <tf.Tensor 'IteratorGetNext:9' shape=(None, 1) dtype=float32>, 'avg_wind_speed': <tf.Tensor 'IteratorGetNext:5' shape=(None, 1) dtype=float32>, 'min_wind_speed': <tf.Tensor 'IteratorGetNext:11' shape=(None, 1) dtype=float32>, 'max_temp': <tf.Tensor 'IteratorGetNext:8' shape=(None, 1) dtype=float32>, 'avg_temp': <tf.Tensor 'IteratorGetNext:4' shape=(None, 1) dtype=float32>, 'min_temp': <tf.Tensor 'IteratorGetNext:10' shape=(None, 1) dtype=float32>, 'DAY_WITH_FOGS': <tf.Tensor 'IteratorGetNext:1' shape=(None, 1) dtype=int64>, 'CITY_ID': <tf.Tensor 'IteratorGetNext:0' shape=(None, 1) dtype=string>}. Consider rewriting this model with the Functional API.\n"
          ]
        }
      ]
    },
    {
      "cell_type": "code",
      "source": [
        "final_preds.shape"
      ],
      "metadata": {
        "colab": {
          "base_uri": "https://localhost:8080/"
        },
        "id": "GxE3UbQzN_Ha",
        "outputId": "70aac86c-a85a-4b5c-b83d-f3a1ad9d5e38"
      },
      "execution_count": 196,
      "outputs": [
        {
          "output_type": "execute_result",
          "data": {
            "text/plain": [
              "(18563,)"
            ]
          },
          "metadata": {},
          "execution_count": 196
        }
      ]
    },
    {
      "cell_type": "code",
      "source": [
        "final_preds_dict = {'test_index':np.arange(len(final_preds)), 'pollutant':final_preds}\n",
        "final_preds_df = pd.DataFrame(data=final_preds_dict)\n"
      ],
      "metadata": {
        "id": "DAt8s0qjULLP"
      },
      "execution_count": 200,
      "outputs": []
    },
    {
      "cell_type": "code",
      "source": [
        "final_preds_df.to_csv('predictions.csv')\n",
        "final_preds_df.to_json('predictions.sjon')"
      ],
      "metadata": {
        "id": "x5ks-CfUZy7L"
      },
      "execution_count": 203,
      "outputs": []
    },
    {
      "cell_type": "code",
      "source": [
        "final_preds_df"
      ],
      "metadata": {
        "colab": {
          "base_uri": "https://localhost:8080/",
          "height": 423
        },
        "id": "3Cyu7BMYPLez",
        "outputId": "34766748-d440-452e-f31d-d1784b2c5dff"
      },
      "execution_count": 201,
      "outputs": [
        {
          "output_type": "execute_result",
          "data": {
            "text/plain": [
              "       test_index  pollutant\n",
              "0               0          1\n",
              "1               1          1\n",
              "2               2          2\n",
              "3               3          0\n",
              "4               4          2\n",
              "...           ...        ...\n",
              "18558       18558          1\n",
              "18559       18559          0\n",
              "18560       18560          1\n",
              "18561       18561          1\n",
              "18562       18562          0\n",
              "\n",
              "[18563 rows x 2 columns]"
            ],
            "text/html": [
              "\n",
              "  <div id=\"df-e952a3e7-136b-49b3-8848-67dd9fec466b\">\n",
              "    <div class=\"colab-df-container\">\n",
              "      <div>\n",
              "<style scoped>\n",
              "    .dataframe tbody tr th:only-of-type {\n",
              "        vertical-align: middle;\n",
              "    }\n",
              "\n",
              "    .dataframe tbody tr th {\n",
              "        vertical-align: top;\n",
              "    }\n",
              "\n",
              "    .dataframe thead th {\n",
              "        text-align: right;\n",
              "    }\n",
              "</style>\n",
              "<table border=\"1\" class=\"dataframe\">\n",
              "  <thead>\n",
              "    <tr style=\"text-align: right;\">\n",
              "      <th></th>\n",
              "      <th>test_index</th>\n",
              "      <th>pollutant</th>\n",
              "    </tr>\n",
              "  </thead>\n",
              "  <tbody>\n",
              "    <tr>\n",
              "      <th>0</th>\n",
              "      <td>0</td>\n",
              "      <td>1</td>\n",
              "    </tr>\n",
              "    <tr>\n",
              "      <th>1</th>\n",
              "      <td>1</td>\n",
              "      <td>1</td>\n",
              "    </tr>\n",
              "    <tr>\n",
              "      <th>2</th>\n",
              "      <td>2</td>\n",
              "      <td>2</td>\n",
              "    </tr>\n",
              "    <tr>\n",
              "      <th>3</th>\n",
              "      <td>3</td>\n",
              "      <td>0</td>\n",
              "    </tr>\n",
              "    <tr>\n",
              "      <th>4</th>\n",
              "      <td>4</td>\n",
              "      <td>2</td>\n",
              "    </tr>\n",
              "    <tr>\n",
              "      <th>...</th>\n",
              "      <td>...</td>\n",
              "      <td>...</td>\n",
              "    </tr>\n",
              "    <tr>\n",
              "      <th>18558</th>\n",
              "      <td>18558</td>\n",
              "      <td>1</td>\n",
              "    </tr>\n",
              "    <tr>\n",
              "      <th>18559</th>\n",
              "      <td>18559</td>\n",
              "      <td>0</td>\n",
              "    </tr>\n",
              "    <tr>\n",
              "      <th>18560</th>\n",
              "      <td>18560</td>\n",
              "      <td>1</td>\n",
              "    </tr>\n",
              "    <tr>\n",
              "      <th>18561</th>\n",
              "      <td>18561</td>\n",
              "      <td>1</td>\n",
              "    </tr>\n",
              "    <tr>\n",
              "      <th>18562</th>\n",
              "      <td>18562</td>\n",
              "      <td>0</td>\n",
              "    </tr>\n",
              "  </tbody>\n",
              "</table>\n",
              "<p>18563 rows × 2 columns</p>\n",
              "</div>\n",
              "      <button class=\"colab-df-convert\" onclick=\"convertToInteractive('df-e952a3e7-136b-49b3-8848-67dd9fec466b')\"\n",
              "              title=\"Convert this dataframe to an interactive table.\"\n",
              "              style=\"display:none;\">\n",
              "        \n",
              "  <svg xmlns=\"http://www.w3.org/2000/svg\" height=\"24px\"viewBox=\"0 0 24 24\"\n",
              "       width=\"24px\">\n",
              "    <path d=\"M0 0h24v24H0V0z\" fill=\"none\"/>\n",
              "    <path d=\"M18.56 5.44l.94 2.06.94-2.06 2.06-.94-2.06-.94-.94-2.06-.94 2.06-2.06.94zm-11 1L8.5 8.5l.94-2.06 2.06-.94-2.06-.94L8.5 2.5l-.94 2.06-2.06.94zm10 10l.94 2.06.94-2.06 2.06-.94-2.06-.94-.94-2.06-.94 2.06-2.06.94z\"/><path d=\"M17.41 7.96l-1.37-1.37c-.4-.4-.92-.59-1.43-.59-.52 0-1.04.2-1.43.59L10.3 9.45l-7.72 7.72c-.78.78-.78 2.05 0 2.83L4 21.41c.39.39.9.59 1.41.59.51 0 1.02-.2 1.41-.59l7.78-7.78 2.81-2.81c.8-.78.8-2.07 0-2.86zM5.41 20L4 18.59l7.72-7.72 1.47 1.35L5.41 20z\"/>\n",
              "  </svg>\n",
              "      </button>\n",
              "      \n",
              "  <style>\n",
              "    .colab-df-container {\n",
              "      display:flex;\n",
              "      flex-wrap:wrap;\n",
              "      gap: 12px;\n",
              "    }\n",
              "\n",
              "    .colab-df-convert {\n",
              "      background-color: #E8F0FE;\n",
              "      border: none;\n",
              "      border-radius: 50%;\n",
              "      cursor: pointer;\n",
              "      display: none;\n",
              "      fill: #1967D2;\n",
              "      height: 32px;\n",
              "      padding: 0 0 0 0;\n",
              "      width: 32px;\n",
              "    }\n",
              "\n",
              "    .colab-df-convert:hover {\n",
              "      background-color: #E2EBFA;\n",
              "      box-shadow: 0px 1px 2px rgba(60, 64, 67, 0.3), 0px 1px 3px 1px rgba(60, 64, 67, 0.15);\n",
              "      fill: #174EA6;\n",
              "    }\n",
              "\n",
              "    [theme=dark] .colab-df-convert {\n",
              "      background-color: #3B4455;\n",
              "      fill: #D2E3FC;\n",
              "    }\n",
              "\n",
              "    [theme=dark] .colab-df-convert:hover {\n",
              "      background-color: #434B5C;\n",
              "      box-shadow: 0px 1px 3px 1px rgba(0, 0, 0, 0.15);\n",
              "      filter: drop-shadow(0px 1px 2px rgba(0, 0, 0, 0.3));\n",
              "      fill: #FFFFFF;\n",
              "    }\n",
              "  </style>\n",
              "\n",
              "      <script>\n",
              "        const buttonEl =\n",
              "          document.querySelector('#df-e952a3e7-136b-49b3-8848-67dd9fec466b button.colab-df-convert');\n",
              "        buttonEl.style.display =\n",
              "          google.colab.kernel.accessAllowed ? 'block' : 'none';\n",
              "\n",
              "        async function convertToInteractive(key) {\n",
              "          const element = document.querySelector('#df-e952a3e7-136b-49b3-8848-67dd9fec466b');\n",
              "          const dataTable =\n",
              "            await google.colab.kernel.invokeFunction('convertToInteractive',\n",
              "                                                     [key], {});\n",
              "          if (!dataTable) return;\n",
              "\n",
              "          const docLinkHtml = 'Like what you see? Visit the ' +\n",
              "            '<a target=\"_blank\" href=https://colab.research.google.com/notebooks/data_table.ipynb>data table notebook</a>'\n",
              "            + ' to learn more about interactive tables.';\n",
              "          element.innerHTML = '';\n",
              "          dataTable['output_type'] = 'display_data';\n",
              "          await google.colab.output.renderOutput(dataTable, element);\n",
              "          const docLink = document.createElement('div');\n",
              "          docLink.innerHTML = docLinkHtml;\n",
              "          element.appendChild(docLink);\n",
              "        }\n",
              "      </script>\n",
              "    </div>\n",
              "  </div>\n",
              "  "
            ]
          },
          "metadata": {},
          "execution_count": 201
        }
      ]
    },
    {
      "cell_type": "code",
      "source": [
        ""
      ],
      "metadata": {
        "id": "5umFCo2aZ4Qf"
      },
      "execution_count": null,
      "outputs": []
    }
  ]
}